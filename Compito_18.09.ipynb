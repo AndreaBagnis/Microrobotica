{
 "cells": [
  {
   "cell_type": "markdown",
   "id": "2e9979b5-13da-497a-9d76-0a1ef8b4e016",
   "metadata": {},
   "source": [
    "## COMPITO\n",
    "* Cercare un testo letterario in formato .txt\n",
    "* Leggere il file\n",
    "* Creare un dizionario che ha come chiavi tutti i caratteri presenti nel file .txt e come valore la frequenza assoluta del carattere nel testo\n",
    "* Creare un dizionario che ha come chiavi tutti i caratteri presenti nel file .txt e come valore delle liste: le liste contengono tutti i caratteri successori della lettera usata come chiave. La lista può contenere doppioni."
   ]
  },
  {
   "cell_type": "code",
   "execution_count": 5,
   "id": "91923669-a10c-4125-b8a1-f835d71adba3",
   "metadata": {},
   "outputs": [
    {
     "name": "stdout",
     "output_type": "stream",
     "text": [
      "FREQUENZE ASSOLUTE: \n",
      "{'a': 153, 'b': 11, 'c': 50, 'd': 44, 'e': 152, 'f': 13, 'g': 20, 'h': 9, 'i': 109, 'l': 88, 'm': 35, 'n': 75, 'o': 86, 'p': 27, 'q': 10, 'r': 81, 's': 49, 't': 65, 'u': 40, 'v': 41, 'z': 11}\n",
      "\n",
      "LETTERE SUCCESSIVE: \n",
      "{'a': ['v', ' ', 'l', 'n', 't', 'r', 'n', '.', 'r', ' ', ' ', ' ', 'c', 'c', ' ', 'n', 'r', 'l', 'n', 'n', ' ', ' ', 'c', ' ', ' ', 'l', 'v', ' ', 'l', 's', 'c', 'n', 'n', 't', 'v', 'v', 'n', 'g', 'l', 'm', 'v', ' ', 'm', ' ', 'g', 'z', ' ', 'v', ' ', 'l', 't', 'v', ' ', 't', 'n', 'l', 'l', '.', 'n', 'v', ' ', 'd', 'r', 'e', 'g', 'g', 'l', 'v', 'n', 'r', ' ', 'v', ' ', ' ', 'g', 't', ' ', 'l', ' ', 'd', '.', ' ', 'n', ' ', ' ', 'l', 't', 'l', 'r', 't', ' ', 'l', ' ', 'g', 'z', ' ', ' ', ' ', ' ', 's', 'c', '.', 'n', 'v', ' ', 'c', ' ', 'p', ' ', 'r', 'r', 't', ' ', ' ', ' ', 'v', ' ', ' ', 'r', ' ', 's', '.', 'r', 'v', ' ', 'm', 'v', ' ', 'v', 'n', ' ', 'r', ' ', 'm', ' ', 'n', ',', ' ', 'l', ' ', 't', ',', 'v', ' ', 'l', 'v', 'l', 'r', ' ', 'r', 't', 'r', 'v'], 'b': ['e', 'o', 'r', 'a', 'a', 'r', 'e', 'b', 'e', 'r', 'r'], 'c': ['a', 'o', 'i', 'i', 'a', 'e', 'e', 'q', 'h', 'o', 'c', 'o', 'h', 'c', 'e', 'i', 'a', 'c', 'e', 'h', 'i', 'a', 'o', 'c', 'o', 'e', 'a', 'o', 'a', 'h', 'o', 'a', 'h', 'i', 'i', 'o', 'q', 'e', 'i', 'r', 'h', 'a', 'i', 'h', 'u', 'h', 'e', 'o', 'i', 'h'], 'd': ['o', 'i', 'o', 'i', 'a', 'e', 'i', 'e', 'o', 'e', 'e', 'o', 'e', 'i', 'a', 'o', 'o', ' ', 'i', 'i', 'a', 'a', 'i', 'i', 'i', 'e', 'e', 'e', 'i', 'a', 'i', 'i', 'a', 'e', 'i', 'a', 'i', 'i', 'i', 'a', 'e', 'i', 'i', 'a'], 'e': [' ', 't', ' ', ',', 'n', 'l', ' ', ' ', 'r', 's', ' ', 'v', ',', ' ', 'n', 'g', 'r', 'v', ' ', ' ', ' ', 'g', 'r', 'l', ' ', 'v', ',', 'n', ' ', ' ', 'l', ' ', ' ', 'l', ' ', ' ', 'n', 'v', 'b', 'n', ' ', 'n', 'r', ' ', 'r', 'n', 'r', ' ', 'n', 'n', ' ', 's', 'g', 'r', ' ', 'v', ' ', ' ', ' ', 'l', 'r', 'r', ' ', 's', ' ', ' ', ' ', 'm', ' ', ' ', 'r', 't', 'i', 'v', ',', ' ', 'r', 'g', ' ', ' ', ' ', ' ', 'g', 'r', ',', 'd', 't', ' ', 't', ' ', 'l', 'l', 'n', ' ', 'n', ' ', ' ', 's', 'r', '.', 'v', ' ', 's', 'b', ' ', ',', 'v', 't', ' ', 'l', ' ', 'n', 'n', ' ', 'n', ' ', ' ', ' ', 'l', ' ', ' ', '.', 'r', 'n', 'm', ' ', 'r', 's', 'z', 'l', 'n', 'r', 'm', ' ', ' ', 'm', 's', ' ', 'c', 'n', ' ', 'r', 'r', 't', 'r', ' ', ' ', 'r', ' ', 's', ' ', 'r'], 'f': ['u', 'r', 'a', 'o', 'i', 'e', 'u', 'i', 'f', 'i', 'r', 'r', 'e'], 'g': ['e', 'g', 'e', 'l', 'l', 'g', 'i', 'a', 'n', 'n', 'g', 'i', 'n', 'n', 'i', 'u', 'a', 'l', 'a', 'u'], 'h': ['e', 'e', 'e', 'e', 'e', 'e', 'e', 'e', 'i'], 'i': ['l', 'e', 'n', 'n', 'l', 'e', ' ', 'o', ' ', 'o', 'a', 'a', 'e', ' ', '.', 'n', ' ', 'v', 'l', 'o', 'n', 'c', 'u', 'd', 'm', ' ', ' ', 'l', 'n', ' ', 'e', ' ', 'l', 'l', 'o', 'e', 'n', 'p', 'n', 'c', 'n', ' ', ' ', ' ', 'l', 'o', 'z', 'p', 'n', 'a', ' ', 'a', 'e', ' ', ' ', ' ', 'v', 'v', 'n', 'r', ' ', '.', 'v', 'c', 'n', 'u', ' ', 'e', 's', 'a', 'l', ' ', 'l', 't', ' ', 'f', 'c', 'l', 'v', 'v', ' ', 'l', 'e', 'v', 'ã', 'm', 'n', 'z', 'a', 'l', 'c', ' ', 't', 'd', 'a', 'o', 'o', 'n', 'l', 'o', 'n', 'l', 's', ' ', 'u', ' ', ' ', 'm', 'r'], 'l': [' ', 'e', 'a', 'e', 'l', 'i', ' ', 'o', 'a', 'â', 'e', 'e', 'e', 'i', 'i', 'b', 'o', ' ', 'l', 'â', 'o', 'c', 'l', 'o', ' ', 'e', 'u', 'l', 'e', 'l', 'u', 'm', ' ', 'l', 'a', ' ', 'e', 'e', 'o', 'e', ' ', 'd', 'c', 'a', ' ', 'e', 'l', 'â', 'â', 'l', 'a', 'e', 'e', 'l', 'u', 'i', 'b', ' ', 'a', 'i', 't', ' ', 'l', 'â', ' ', 'l', 'i', 'e', 'e', 'a', ' ', 'o', 'e', 'e', 'l', 'e', 'l', 'a', 'i', ' ', 'e', 'o', 'l', 'a', ' ', ' ', 'l', 'e'], 'm': ['a', 'o', 'o', 'e', 'e', 'e', 'i', 'e', 'm', 'i', 'e', 'e', 'p', 'e', 'a', 'o', 'b', 'a', 'b', 'e', 'o', 'e', 'a', 'e', 'e', 'm', 'e', 'p', 'a', 'b', 'e', 'p', 'e', 'a', 'o'], 'n': ['d', 'e', 'g', 'd', 'c', 'i', ' ', 't', 'z', ' ', 't', 'a', 'z', ' ', ' ', 't', 'a', 'i', 'd', 'o', 'a', 'd', 't', 't', 'o', 't', 'c', 'a', 't', 't', 'a', ' ', ' ', 'o', 'o', 'a', 'e', 'i', 't', 't', 'e', 't', 'o', 't', 'a', ' ', 'e', 's', 'g', 'o', 'a', 'o', 't', 'q', ' ', 's', 'o', 'o', ' ', 'a', 't', 't', 't', 'i', 'o', ' ', 't', 'a', ' ', 'z', 't', 'a', 't', 'q', ' '], 'o': ['l', ' ', ' ', 'l', ' ', ' ', 'n', 'l', 'l', ' ', ' ', 'g', 'n', 'r', 'r', ' ', 'r', 'l', ' ', ' ', 'r', '.', ',', ' ', 'l', ' ', '.', ' ', 'n', 'l', ' ', ' ', '.', 'r', ',', 'v', 'm', ' ', ' ', 'g', ' ', 's', ':', 'n', 'r', 'n', ' ', 'f', ' ', 'r', 'm', ' ', 'l', 'n', ' ', 'm', ' ', ' ', ' ', 't', 'n', 'r', ' ', ' ', ' ', ' ', 't', 'p', ' ', ' ', 's', '.', ' ', 't', ' ', 'l', ' ', ' ', ' ', 's', ',', 'm', ' ', ' ', ' ', '.'], 'p': ['i', 'i', 'r', 'r', 'a', 'i', 'r', 'a', 'a', 'i', 'r', 'i', 'a', 'e', 'r', 'i', 'r', 'l', 'r', 'r', 'e', 'r', 'o', 'o', 'e', 'e', 'i'], 'q': ['u', 'u', 'u', 'u', 'u', 'u', 'u', 'u', 'u', 'u'], 'r': ['o', 'e', 'a', 'i', 'a', 'e', 'o', 'e', 'i', 'm', 'i', 'r', 'e', 'e', 'n', 'i', 'i', 'a', 's', 'o', 'i', 'a', 'n', 'c', 'a', 'm', 'v', 'e', 'i', 'a', 'i', 'o', 'b', 'u', 'o', 'r', 'e', 't', 'e', 'e', 'i', 'r', 'i', 'a', 'a', 'a', 'i', 'e', 'e', 'e', 'r', 'i', 'e', 'n', 'e', 'd', 'o', 'i', 'i', 'e', 'a', 'a', 'o', 'i', ' ', 'e', 'r', 'o', 'a', 'a', 'a', 'e', ' ', 'm', 'e', 'm', 's', 'e', 'a', 'e', 'o'], 's': ['o', 't', 'f', 'c', 'i', 'c', 'e', 'i', 'e', 'a', 'u', 'e', 't', 'i', 's', 'e', 'a', 'e', 'i', 'e', 'i', 'e', 'u', 'c', 'c', 'u', 'e', 'o', 'c', 'a', 't', 'a', 'a', 'c', 't', 'e', 't', 'o', 'i', 'o', 'e', 'u', 't', 'e', 's', 'e', 'o', 'i', 'p'], 't': ['a', 'r', 'i', 'u', 'o', 'a', 'r', 'o', 'e', 'i', 't', 'r', 'i', 'a', 'e', 'i', 'o', 'o', 'o', 'a', 'o', 'a', 'e', 'e', 'a', 'r', 'i', 'e', 'a', 't', 'e', 'r', 'ã', 'o', 'r', 'ã', 'o', 'a', 't', 'e', 't', 'a', 'o', 'a', 'e', 'a', 'e', 'o', 'a', 'i', 'o', 'e', 't', 'o', 'u', 'u', 't', 'o', 'o', 'e', 'a', 't', 'e', 't', 'i'], 'u': ['m', 'r', 'n', 'd', 'a', 'n', 'm', 'a', 'c', 'c', 'm', 'l', 'n', 'n', 'a', 'm', 'g', 'n', 'i', 'n', 'm', ' ', 'n', 'o', 'a', 'e', 'i', 'n', 'a', 'r', 'n', 'o', 'e', 'e', 'r', 't', 'o', 'n', 'e', 'n'], 'v': ['a', 'i', 'o', 'e', 'a', 'a', 'a', 'a', 'a', 'e', 'a', 'i', 'a', 'a', 'e', 'e', 'a', 'a', 'a', 'a', 'a', 'a', 'e', 'a', 'a', 'i', 'a', 'e', 'a', 'a', 'e', 'a', 'a', 'e', 'a', 'a', 'i', 'a', 'e', 'v', 'e'], 'z': ['a', 'a', 'z', 'a', 'z', 'o', 'z', 'a', 'i', 'i', 'i']}\n"
     ]
    }
   ],
   "source": [
    "lettere = [\"a\",\"b\",\"c\",\"d\",\"e\",\"f\",\"g\",\"h\",\"i\",\"l\",\"m\",\"n\",\"o\",\"p\",\"q\",\"r\",\"s\",\"t\",\"u\",\"v\",\"z\"] # Caratteri che mi interessano\n",
    "frequenzeAssolute = {lettera: 0 for lettera in lettere} # Dizionario contenente come chiavi le lettere e come valori il numero di volte che la lettera compare nel file\n",
    "lettereSuccessive = {lettera: [] for lettera in lettere} # Dizionario contenente come chiavi le lettere e come valori delle liste che contengono tutte le lettere seguenti di quella lettera\n",
    "file = open(\"testo.txt\", \"r\") # Apro il file in lettura\n",
    "testo = file.read().lower() # Leggo e metto tutto in minuscolo (per evitare che le lettere maiuscole non vengano considerate)\n",
    "\n",
    "for i in range(len(testo) - 1): # Per ogni carattere del testo\n",
    "    char = testo[i]; # Assegno il carattere ad una variabile char\n",
    "    if char in lettere: # Se il carattere è tra quelli che mi interessano\n",
    "        frequenzeAssolute[char] += 1 # Aumento la frequenza assoluta del carattere nel dizionario\n",
    "        lettereSuccessive[char].append(testo[i + 1]); # E aggiungo alla lista del carattere il carattere seguente lo stesso\n",
    "\n",
    "# Stampo per conferma\n",
    "print(\"FREQUENZE ASSOLUTE: \")\n",
    "print(frequenzeAssolute)\n",
    "print(\"\\nLETTERE SUCCESSIVE: \")\n",
    "print(lettereSuccessive)\n",
    "            "
   ]
  },
  {
   "cell_type": "markdown",
   "id": "fab5524d-805f-4f46-bc37-b7b928f935ff",
   "metadata": {},
   "source": [
    "# Continuazione compito:\n",
    "Chiedere all'utente in input una lettera; verrà usata per cercare nel dizionario il valore corrispondente (lista): prendere una lettera a caso della lista e aggiungerla ad una lista. Poi prendere una lettera a caso dalla lista di quella lettera aggiunta e aggiungerla ad una lista. Continuare così fino a un numero definito di volte. \n",
    "Facoltativo: usare degli ennegrammi"
   ]
  },
  {
   "cell_type": "code",
   "execution_count": 17,
   "id": "b4ec5230-b545-416f-8444-b3e3591aaf13",
   "metadata": {},
   "outputs": [
    {
     "name": "stdin",
     "output_type": "stream",
     "text": [
      "Inserisci una lettera:  d\n"
     ]
    },
    {
     "name": "stdout",
     "output_type": "stream",
     "text": [
      "['t', 'o', 'o', 'a', 't']\n"
     ]
    }
   ],
   "source": [
    "import random\n",
    "\n",
    "lettereCasuali = []\n",
    "nVolte = 5\n",
    "\n",
    "carattereSuccessivo = input(\"Inserisci una lettera: \")\n",
    "for _ in range(nVolte):\n",
    "    letteraCasuale = random.choice(lettereSuccessive[carattere])\n",
    "    carattereSuccessivo = letteraCasuale\n",
    "    lettereCasuali.append(letteraCasuale)\n",
    "    \n",
    "print(lettereCasuali)"
   ]
  },
  {
   "cell_type": "code",
   "execution_count": null,
   "id": "fa198ddf-3c62-49cc-93dd-24c4de8ccede",
   "metadata": {},
   "outputs": [],
   "source": []
  }
 ],
 "metadata": {
  "kernelspec": {
   "display_name": "Python 3 (ipykernel)",
   "language": "python",
   "name": "python3"
  },
  "language_info": {
   "codemirror_mode": {
    "name": "ipython",
    "version": 3
   },
   "file_extension": ".py",
   "mimetype": "text/x-python",
   "name": "python",
   "nbconvert_exporter": "python",
   "pygments_lexer": "ipython3",
   "version": "3.13.5"
  }
 },
 "nbformat": 4,
 "nbformat_minor": 5
}
